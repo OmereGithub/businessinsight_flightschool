{
 "cells": [
  {
   "cell_type": "code",
   "execution_count": 1,
   "metadata": {},
   "outputs": [],
   "source": [
    "import pandas as pd\n",
    "import numpy as np\n",
    "from fractions import Fraction\n",
    "from datetime import datetime as dt\n",
    "from datetime import timedelta as td\n",
    "import time\n",
    "import matplotlib.pyplot as plt\n",
    "import seaborn as sns\n",
    "%matplotlib inline\n",
    "\n",
    "\n",
    "#read the large csv file with specified chunksize\n",
    "df_chunk = pd.read_csv('metar_export.txt', sep = '\\t', header = None, chunksize = 1000)"
   ]
  },
  {
   "cell_type": "code",
   "execution_count": 2,
   "metadata": {},
   "outputs": [],
   "source": [
    "chunk_list = [] #append each chunk df here\n",
    "\n",
    "for chunk in df_chunk:\n",
    "    #append each chunk to a list\n",
    "    chunk_list.append(chunk)\n",
    "\n",
    "#concat the list into dataframe\n",
    "df_concat = pd.concat(chunk_list)"
   ]
  },
  {
   "cell_type": "code",
   "execution_count": 3,
   "metadata": {
    "scrolled": true
   },
   "outputs": [
    {
     "name": "stdout",
     "output_type": "stream",
     "text": [
      "number of rows in this dataset: 7731241\n"
     ]
    }
   ],
   "source": [
    "print('number of rows in this dataset:', len(df_concat))"
   ]
  },
  {
   "cell_type": "code",
   "execution_count": 4,
   "metadata": {},
   "outputs": [],
   "source": [
    "#set data types as \"string\" to\n",
    "#prepare for data wrangling below\n",
    "\n",
    "df_concat = df_concat.astype('str')"
   ]
  },
  {
   "cell_type": "markdown",
   "metadata": {},
   "source": [
    "### Cloud Ceiling"
   ]
  },
  {
   "cell_type": "code",
   "execution_count": 21,
   "metadata": {},
   "outputs": [],
   "source": [
    "def cloud_ceiling(weather_data):\n",
    "    '''\n",
    "    Takes in the column of data\n",
    "    containing weather information\n",
    "    \n",
    "    Pulls cloud data and tells us if\n",
    "    the characteristics are good or bad\n",
    "    for flying\n",
    "    \n",
    "    Conditions for good weather:\n",
    "    - first recorded cloud is SKC (no cloud/sky clear) or CLR (no clouds below 12k ft)\n",
    "    - all recorded  clouds are FEW and SCT (less dense clouds than BKN and OVC)\n",
    "    - first recorded cloud is FEW or SCT, and is at or above 3k ft\n",
    "    - first recorded cloud is BKN or OVC and above 3k ft\n",
    "    - first recorded cloud is FEW or SCT below 3k ft, but first record of BKN or OVC is above 3k ft\n",
    "    \n",
    "    Conditions for bad weather:\n",
    "    - cloud record is VV (fog)\n",
    "    - first recorded cloud is BKN or OVC, and below 3k ft\n",
    "    - first recorded cloud is FEW or SCT above below 3k ft, and first record of BKN or OVC is below 3k ft  \n",
    "    - no ceiling is reported along with record of BKN or OVC\n",
    "    - no record of cloud type\n",
    "    \n",
    "    output = 1 means good weather\n",
    "    output = 0 means bad weather\n",
    "    '''\n",
    "    rowdata = weather_data.split()\n",
    "    cloud_ceil = []\n",
    "    \n",
    "    clue_clear = ['SKC', 'CLR'] #typical first 3 characters of clearer skies\n",
    "                                #no ceiling typically reported\n",
    "    clue_cloudy = ['FEW', 'SCT', 'BKN', 'OVC'] #typical first 3 characters of cloudy skies\n",
    "                                               #vertical distance from ground typically reported \n",
    "    clue_foggy = ['VV'] #typical first 2 characters for foggy skies\n",
    "    \n",
    "    numbers = '0123456789'\n",
    "    \n",
    "    char_ctr = 0 #will increase until we have completely\n",
    "                 #iterated over all elements in \"rowdata\"\n",
    "        \n",
    "    #append cloud ceiling report info to cloud_ceil\n",
    "    for idx, char in enumerate(rowdata):\n",
    "        \n",
    "        char_ctr += 1\n",
    "        \n",
    "        #when there are clear skies/no clouds below 12k ft\n",
    "        if char[0:3] in clue_clear:\n",
    "            cloud_ceil.append(char)\n",
    "            break\n",
    "            \n",
    "        #when it is cloudy and the system made no errors recording the data\n",
    "        elif char[0:3] in clue_cloudy and len(char) > 3:\n",
    "            density = char[0:3]\n",
    "            cloud_ceil.append(density)\n",
    "            \n",
    "            #confirm that the characters after the recorded cloud type are numbers\n",
    "            ceiling_check = char[3:6]\n",
    "            \n",
    "            #replace letter O with zero if entry has this error type\n",
    "            ceiling_check = ceiling_check.replace('O', '0')\n",
    "            \n",
    "            ctr = 0\n",
    "            for value in ceiling_check:\n",
    "                if value in numbers:\n",
    "                    ctr += 1\n",
    "            \n",
    "            if ctr == 3:\n",
    "                cloud_ceil.append(ceiling_check) \n",
    "                \n",
    "            else:\n",
    "                cloud_ceil.append('000')\n",
    "            break\n",
    "            \n",
    "        #when it is cloudy and the system made some errors entering the data    \n",
    "        elif char[0:3] in clue_cloudy and len(char) == 3:\n",
    "            cloud_ceil.append(char)\n",
    "            \n",
    "            try:\n",
    "                next_char = rowdata[idx+1][0:3]\n",
    "                \n",
    "                #replace letter O with zero if entry has this error type\n",
    "                next_char = next_char.replace('O', '0')\n",
    "                \n",
    "                ctr = 0\n",
    "                for value in next_char:\n",
    "                    if value in numbers:\n",
    "                        ctr += 1\n",
    "                if ctr == 3:\n",
    "                    cloud_ceil.append(next_char)\n",
    "                else:\n",
    "                    cloud_ceil.append('000')\n",
    "            except IndexError:\n",
    "                cloud_ceil.append('000')\n",
    "            break\n",
    "            \n",
    "        #when it is foggy   \n",
    "        elif char[0:2] in clue_foggy:\n",
    "            cloud_ceil.append('000')\n",
    "            break\n",
    "        \n",
    "        #when absolutely no info is provided for cloud ceiling\n",
    "        elif char_ctr == len(rowdata):\n",
    "            cloud_ceil.append('000')\n",
    "            break\n",
    "    \n",
    "    cloud_ceil = ''.join(str(x) for x in cloud_ceil)\n",
    "    \n",
    "    \n",
    "    \n",
    "    \n",
    "    ##############################################################\n",
    "    #Now, get Cloud Ceiling when first\n",
    "    #cloud record is FEW or SCT below 3000ft\n",
    "    \n",
    "    \n",
    "    ceiling = '' #will append cloud ceiling\n",
    "    \n",
    "    if cloud_ceil[0:3] == 'FEW' or cloud_ceil[0:3] == 'SCT':\n",
    "        for char in cloud_ceil:\n",
    "            if char in numbers:\n",
    "                ceiling += char\n",
    "    \n",
    "        ceiling = int(ceiling)\n",
    "        if ceiling < 30: \n",
    "            #FEW/SCT not above 3000ft\n",
    "            #Let's see if the next reported cloud type\n",
    "            #is SKC, CLR, BKN, or OVC\n",
    "            \n",
    "            options = ['SKC', 'CLR', 'BKN', 'OVC']\n",
    "            \n",
    "            rowdata = rowdata[idx:len(rowdata)] #we want the remaining of the input string\n",
    "                                                #that we have not investigated\n",
    "            \n",
    "            cloud_ctr = 0\n",
    "            for idx, char in enumerate(rowdata):\n",
    "                #keep iterating over rowdata unless we've found relevant info\n",
    "                if cloud_ctr != 0:\n",
    "                    break\n",
    "                \n",
    "                for cloud in options:\n",
    "                    if cloud in char:\n",
    "                        if cloud == 'SKC' or cloud == 'CLR':\n",
    "                            #this condition statisfies entries I saw, like, 'SCTYCLR'\n",
    "                            cloud_ceil += cloud\n",
    "                            \n",
    "                            cloud_ctr += 1\n",
    "                            break\n",
    "                         \n",
    "                        else:\n",
    "                            #identified cloud type must be BKN or OVC\n",
    "                            \n",
    "                            cloud_ceil = [] #reset cloud_ceil\n",
    "                            \n",
    "                            #this condition takes into account entries I saw, like, 014OVC240\n",
    "                            useful_info = char[char.find(cloud):len(char)] #get the cloud and ceiling info\n",
    "                            \n",
    "                            if len(useful_info) > 3:\n",
    "                                #we pulled both cloud type and ceiling info\n",
    "                                density = useful_info[0:3]\n",
    "                                cloud_ceil.append(density)\n",
    "            \n",
    "                                #confirm that the characters after the recorded cloud type are numbers\n",
    "                                ceiling_check = useful_info[3:6]\n",
    "                    \n",
    "                                #replace letter O with zero if entry has this error type\n",
    "                                ceiling_check = ceiling_check.replace('O', '0')\n",
    "                    \n",
    "                                ctr = 0\n",
    "                                for value in ceiling_check:\n",
    "                                    if value in numbers:\n",
    "                                        ctr += 1\n",
    "                                if ctr == 3:\n",
    "                                    cloud_ceil.append(ceiling_check)\n",
    "                                else:\n",
    "                                    cloud_ceil.append('000')\n",
    "                                \n",
    "                                cloud_ctr += 1\n",
    "                                break\n",
    "                            \n",
    "                            else:\n",
    "                                #we pulled only cloud type\n",
    "                                cloud_ceil.append(useful_info)\n",
    "            \n",
    "                                #check the next index location for ceiling info\n",
    "                                try:\n",
    "                                    next_char = rowdata[idx+1][0:3]\n",
    "                            \n",
    "                                    #replace letter O with zero if entry has this error type\n",
    "                                    next_char = next_char.replace('O', '0')\n",
    "            \n",
    "                                    ctr = 0\n",
    "                                    for value in next_char:\n",
    "                                        if value in numbers:\n",
    "                                            ctr += 1\n",
    "                                    if ctr == 3:\n",
    "                                        cloud_ceil.append(next_char)\n",
    "                                    else:\n",
    "                                        cloud_ceil.append('000')\n",
    "                                except IndexError:\n",
    "                                        cloud_ceil.append('000')\n",
    "                                      \n",
    "                                cloud_ctr += 1    \n",
    "                                break\n",
    "                \n",
    "                if cloud_ctr == 1:\n",
    "                    cloud_ceil = ''.join(str(x) for x in cloud_ceil)\n",
    "                            \n",
    "    \n",
    "    ############################################################\n",
    "    #Now, that we have pulled the relevant information\n",
    "    #we can identify if the cloud conditions are good\n",
    "    #for flying\n",
    "    \n",
    "    condition = 0 #bad weather\n",
    "    \n",
    "    ceiling = '' #will append cloud ceiling\n",
    "    \n",
    "    if 'CLR' in cloud_ceil or 'SKC' in cloud_ceil:\n",
    "        condition = 1 #good weather \n",
    "        \n",
    "    elif 'FEW' in cloud_ceil or 'SCT' in cloud_ceil:\n",
    "        #this condition is satisfied if only FEW and SCT are reported\n",
    "        #or if the first recorded cloud is FEW or SCT, and it is above 3k ft\n",
    "        condition = 1 #good weather\n",
    "    \n",
    "    else:\n",
    "        for char in cloud_ceil:\n",
    "            if char in numbers:\n",
    "                ceiling += char\n",
    "        \n",
    "\n",
    "        ceiling = int(ceiling)\n",
    "        if ceiling >= 30: #for good weather, ceiling must be higher than 3000ft\n",
    "            condition = 1\n",
    "        \n",
    "    \n",
    "    return condition"
   ]
  },
  {
   "cell_type": "code",
   "execution_count": 22,
   "metadata": {
    "scrolled": true
   },
   "outputs": [],
   "source": [
    "df_cloud_ceil = df_concat[1].apply(cloud_ceiling)"
   ]
  },
  {
   "cell_type": "markdown",
   "metadata": {},
   "source": [
    "### Visibility"
   ]
  },
  {
   "cell_type": "code",
   "execution_count": 23,
   "metadata": {},
   "outputs": [],
   "source": [
    "def visibility(weather_data):\n",
    "    '''\n",
    "    Takes in the column of data\n",
    "    containing weather information\n",
    "    \n",
    "    Pulls visibility recording,\n",
    "    and tells us if it is good or bad\n",
    "    for flying\n",
    "    \n",
    "    Condition for good visibility:\n",
    "    - visibility is 10SM or greater\n",
    "    - visibility is entered as 1OSM, where 1O\n",
    "    is the number 1 and the capital case letter O\n",
    "    \n",
    "    Condition for poor visibility:\n",
    "    - visibility is less than 10SM\n",
    "    - reported visibility contains a letter. Typical example: M1/4SM\n",
    "    \n",
    "    output = 1 means good visibility\n",
    "    output = 0 means bad visibility\n",
    "    '''\n",
    "    \n",
    "    rowdata = weather_data.split()\n",
    "    numbers = '0123456789/' #numbers could be input as fractions\n",
    "                            #e.g. 1/2SM\n",
    "    \n",
    "    condition = 0\n",
    "    \n",
    "    ctr = 0\n",
    "    for char in rowdata:\n",
    "        #break out of loop if we have already identified the condition\n",
    "        if condition == 1:\n",
    "            break\n",
    "        elif ctr > 0:\n",
    "            break\n",
    "        \n",
    "        #first confirm that this string has at least 3 characters\n",
    "        if len(char) >= 3:\n",
    "            if char[len(char)-2: len(char)] == 'SM':\n",
    "                \n",
    "                #get the numbers\n",
    "                visib_val = char[0:len(char)-2]\n",
    "                \n",
    "                #confirm that they are numbers\n",
    "                for value in visib_val:\n",
    "                    if value not in numbers:\n",
    "                        if value == 'K':\n",
    "                            #we are currently iterating over a location\n",
    "                            #and not a visibility reading\n",
    "                            ctr += 0\n",
    "                            break\n",
    "                        elif value == 'M':\n",
    "                            #we are currently iterating over a visibility\n",
    "                            #reading of M1/4SM. Visibility is bad\n",
    "                            ctr += 1\n",
    "                            break\n",
    "                    else:\n",
    "                        #we have numbers, now we can check if\n",
    "                        #the numbers are greater than 10\n",
    "                        ctr += 0.5\n",
    "                \n",
    "                #check if visibility is greater that 10SM        \n",
    "                if ctr == 0.5:\n",
    "                    \n",
    "                    try:\n",
    "                        visib_val = float(Fraction(visib_val))\n",
    "                        if visib_val >= 10.0:\n",
    "                            condition = 1\n",
    "                        else:\n",
    "                            ctr += 1\n",
    "                    except ValueError:\n",
    "                        #there are a few rows contain 1OSM\n",
    "                        #instead of 10SM\n",
    "                        condition = 1\n",
    "      \n",
    "    return condition"
   ]
  },
  {
   "cell_type": "code",
   "execution_count": 24,
   "metadata": {},
   "outputs": [],
   "source": [
    "df_visiblt = df_concat[1].apply(visibility)"
   ]
  },
  {
   "cell_type": "markdown",
   "metadata": {},
   "source": [
    "### Wind Speed"
   ]
  },
  {
   "cell_type": "code",
   "execution_count": 25,
   "metadata": {},
   "outputs": [],
   "source": [
    "def wind_speed(weather_data):\n",
    "    '''\n",
    "    Takes in the column of data \n",
    "    containing weather information\n",
    "    \n",
    "    Pulls recorded wind speed, and tells\n",
    "    us if it is good or bad for flying\n",
    "    \n",
    "    Condition for good speed:\n",
    "    - wind is less than 15KT\n",
    "    - wind speed is entered with an O rather\n",
    "    than a zero. All cases have speed less than\n",
    "    15\n",
    "    \n",
    "    Condition for bad speed:\n",
    "    - wind is 15KT or greater\n",
    "    \n",
    "    Output = 1 means good wind speed\n",
    "    Output = 0 means bad wind speed\n",
    "    '''\n",
    "    \n",
    "    rowdata = weather_data.split()\n",
    "    numbers = '0123456789'\n",
    "    \n",
    "    condition = 0\n",
    "    \n",
    "    ctr = 0\n",
    "    for char in rowdata:\n",
    "        #break out of loop if we have already identified the condition\n",
    "        if condition == 1:\n",
    "            break\n",
    "        elif ctr > 0:\n",
    "            break\n",
    "        \n",
    "        #first confirm that this string has at least 3 characters\n",
    "        if len(char) >= 7 and char[len(char)-2: len(char)] == 'KT':\n",
    "                \n",
    "            #get the numbers\n",
    "            speed = char[len(char)-4 : len(char)-2]\n",
    "                        \n",
    "            #check if the speed is less tha 15KT\n",
    "            try:\n",
    "                speed = int(speed)\n",
    "                if speed < 15:\n",
    "                    condition = 1\n",
    "                else:\n",
    "                    ctr += 1\n",
    "            except ValueError:\n",
    "                #some entries have capital letter O,\n",
    "                #instead of zero. All of them have \n",
    "                #wind speed less than 15 KT\n",
    "                condition = 1\n",
    "                \n",
    "    return condition                    "
   ]
  },
  {
   "cell_type": "code",
   "execution_count": 26,
   "metadata": {},
   "outputs": [],
   "source": [
    "df_wind = df_concat[1].apply(wind_speed)"
   ]
  },
  {
   "cell_type": "markdown",
   "metadata": {},
   "source": [
    "### Aggregate Weather Condition per row"
   ]
  },
  {
   "cell_type": "code",
   "execution_count": 27,
   "metadata": {},
   "outputs": [],
   "source": [
    "df_weather = df_cloud_ceil + df_visiblt + df_wind"
   ]
  },
  {
   "cell_type": "code",
   "execution_count": 28,
   "metadata": {},
   "outputs": [],
   "source": [
    "df_weatherDF = pd.DataFrame({'weather': df_weather})"
   ]
  },
  {
   "cell_type": "markdown",
   "metadata": {},
   "source": [
    "### Airport Weather"
   ]
  },
  {
   "cell_type": "code",
   "execution_count": 18,
   "metadata": {},
   "outputs": [],
   "source": [
    "def airport(weather_data):\n",
    "    '''\n",
    "    Takes in the column of data\n",
    "    containing weather information\n",
    "    \n",
    "    Pulls and outputs Airport Code\n",
    "    '''\n",
    "    \n",
    "    rowdata = weather_data.split()\n",
    "    \n",
    "    return rowdata[0]"
   ]
  },
  {
   "cell_type": "code",
   "execution_count": 19,
   "metadata": {},
   "outputs": [],
   "source": [
    "df_airports = df_concat[1].apply(airport)"
   ]
  },
  {
   "cell_type": "code",
   "execution_count": 20,
   "metadata": {},
   "outputs": [],
   "source": [
    "df_airportsDF = pd.DataFrame({'airport': df_airports})"
   ]
  },
  {
   "cell_type": "code",
   "execution_count": 29,
   "metadata": {},
   "outputs": [],
   "source": [
    "#join airport location and aggregated weather\n",
    "df_aptwthr = df_airportsDF.join(df_weatherDF, how = 'inner')"
   ]
  },
  {
   "cell_type": "markdown",
   "metadata": {},
   "source": [
    "### Airport Location and Time Zone Assumption\n",
    "\n",
    "Spot checking Airport Codes, I noticed that most Airports are in the US. I saw one airport that is in Egypt, KQGX. There may be other airports that are outside the US. To save time, I will assume that all airports are in Central Time Zone. \n",
    "\n",
    "The time on record is Zulu time. Presently, Zulu time is 5 hours ahead of Central Time."
   ]
  },
  {
   "cell_type": "code",
   "execution_count": 145,
   "metadata": {},
   "outputs": [],
   "source": [
    "def day_night(datetime_data):\n",
    "    '''\n",
    "    Takes in the data and time\n",
    "    that weather data was recorded\n",
    "    \n",
    "    Converts Zulu time to Central time,\n",
    "    and tells us if the current time is\n",
    "    during daylight\n",
    "    \n",
    "    Output 'daylight' or 'night' \n",
    "    '''\n",
    "    time_diff = -5 #difference between zulu time\n",
    "                   #and central time \n",
    "        \n",
    "    datetime_zulu = dt.strptime(datetime_data, '%Y-%m-%d %H:%M:%S')\n",
    "    datetime_central = datetime_zulu + td(hours = time_diff) \n",
    "    time_central = datetime_central.time()\n",
    "\n",
    "    time_bound1 = \"08:00:00\" #We have daylight after 8AM\n",
    "    time_bound1 = dt.strptime(time_bound1, '%H:%M:%S').time() #convert string to time object\n",
    "    time_bound2 = \"17:00:00\" #We have no daylight after 5PM\n",
    "    time_bound2 = dt.strptime(time_bound2, '%H:%M:%S').time() #convert string to time object\n",
    "\n",
    "    if time_central >= time_bound1 and time_central <= time_bound2:\n",
    "        return 'daylight'\n",
    "    else:\n",
    "        return 'night'"
   ]
  },
  {
   "cell_type": "code",
   "execution_count": 156,
   "metadata": {},
   "outputs": [],
   "source": [
    "df_daynight = df_concat[0].apply(day_night)"
   ]
  },
  {
   "cell_type": "code",
   "execution_count": 158,
   "metadata": {},
   "outputs": [],
   "source": [
    "#take only rows with daylight\n",
    "df_day = df_daynight[df_daynight == 'daylight']\n",
    "df_dayDF = pd.DataFrame({'time': df_day})"
   ]
  },
  {
   "cell_type": "markdown",
   "metadata": {},
   "source": [
    "### Weather during daylight"
   ]
  },
  {
   "cell_type": "code",
   "execution_count": 212,
   "metadata": {},
   "outputs": [],
   "source": [
    "#Remove all rows of night time airport weather\n",
    "df_daywthr = df_dayDF.join(df_aptwthr, how = 'inner')"
   ]
  },
  {
   "cell_type": "markdown",
   "metadata": {},
   "source": [
    "### Weather Condition for Flight School in each Airport"
   ]
  },
  {
   "cell_type": "code",
   "execution_count": 161,
   "metadata": {},
   "outputs": [],
   "source": [
    "#remove column containing time\n",
    "df_daywthr = df_daywthr.drop(columns = 'time')"
   ]
  },
  {
   "cell_type": "code",
   "execution_count": 187,
   "metadata": {},
   "outputs": [],
   "source": [
    "#average weather condition at each airport\n",
    "df_aptdaywthr = pd.pivot_table(df_daywthr, index = 'airport', values = 'weather', aggfunc = np.mean)\n",
    "\n",
    "#make airports a regular column again, not index\n",
    "df_aptdaywthr.reset_index(inplace = True)"
   ]
  },
  {
   "cell_type": "code",
   "execution_count": 170,
   "metadata": {},
   "outputs": [
    {
     "name": "stdout",
     "output_type": "stream",
     "text": [
      "number of airports: 702\n"
     ]
    }
   ],
   "source": [
    "print('number of airports:', len(df_aptdaywthr))"
   ]
  },
  {
   "cell_type": "code",
   "execution_count": 188,
   "metadata": {},
   "outputs": [],
   "source": [
    "#sort dataframe from best to worst weather\n",
    "df_aptdaywthr = df_aptdaywthr.sort_values(by=['weather'], ascending = False)\n",
    "\n",
    "#reset index such that it goes from 0 through len(df_aptdaywthr)\n",
    "df_aptdaywthr.reset_index(inplace = True)\n",
    "\n",
    "#remove previous index\n",
    "df_aptdaywthr = df_aptdaywthr.drop(columns = 'index')\n",
    "\n",
    "#reduce data in weather column to 4 decimal places\n",
    "decimals = 4   \n",
    "df_aptdaywthr['weather'] = df_aptdaywthr['weather'].apply(lambda x: round(x, decimals))"
   ]
  },
  {
   "cell_type": "markdown",
   "metadata": {},
   "source": [
    "### Top locations & Locations to avoid\n",
    "\n",
    "We want the top 15 locations, and the 15 locations to avoid"
   ]
  },
  {
   "cell_type": "code",
   "execution_count": 204,
   "metadata": {},
   "outputs": [],
   "source": [
    "df_top = df_aptdaywthr[0:15]\n",
    "df_avoid = df_aptdaywthr[len(df_aptdaywthr)-15:len(df_aptdaywthr)]\n",
    "\n",
    "#combine both dataframes into one\n",
    "df_top_worst = pd.concat([df_top, df_avoid])\n",
    "\n",
    "#reset index such that it goes from 0 to len(df_top_worst)\n",
    "df_top_worst.reset_index(inplace = True)\n",
    "\n",
    "#remove previous index\n",
    "df_top_worst = df_top_worst.drop(columns = 'index')"
   ]
  },
  {
   "cell_type": "code",
   "execution_count": 220,
   "metadata": {},
   "outputs": [
    {
     "data": {
      "image/png": "[encoded data removed]",
      "text/plain": [
       "<Figure size 432x288 with 1 Axes>"
      ]
     },
     "metadata": {},
     "output_type": "display_data"
    }
   ],
   "source": [
    "def assign_color(weather):\n",
    "    '''\n",
    "    Takes in weather condition\n",
    "    from df_top_worst\n",
    "    \n",
    "    returns a color that will\n",
    "    be used in the chart\n",
    "    \n",
    "    Output = 'g' means good weather\n",
    "    Output = 'r' means bad weather\n",
    "    '''\n",
    "    if weather > 1.5:\n",
    "        color = 'g'\n",
    "    else:\n",
    "        color = 'r'\n",
    "    return color\n",
    "\n",
    "df_color = df_top_worst['weather'].apply(assign_color)\n",
    "\n",
    "df_top_worst.plot(x = 'airport', y = 'weather', kind = 'bar', legend = False, title = 'Best and Worst Airports For Flight School', color = df_color)\n",
    "\n",
    "plt.xlabel(\"Airport\")\n",
    "\n",
    "plt.savefig('Airport.png')"
   ]
  }
 ],
 "metadata": {
  "kernelspec": {
   "display_name": "Python [conda env:Anaconda3]",
   "language": "python",
   "name": "conda-env-Anaconda3-py"
  },
  "language_info": {
   "codemirror_mode": {
    "name": "ipython",
    "version": 3
   },
   "file_extension": ".py",
   "mimetype": "text/x-python",
   "name": "python",
   "nbconvert_exporter": "python",
   "pygments_lexer": "ipython3",
   "version": "3.6.5"
  }
 },
 "nbformat": 4,
 "nbformat_minor": 2
}
